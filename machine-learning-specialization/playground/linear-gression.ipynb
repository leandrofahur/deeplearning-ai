{
 "cells": [
  {
   "cell_type": "markdown",
   "id": "89d2d46b-b370-4c0f-be49-a923ae981a84",
   "metadata": {},
   "source": [
    "# **Simple Linear Regression**"
   ]
  },
  {
   "cell_type": "markdown",
   "id": "2def5747-69fe-4be2-b860-4c6cff0268f9",
   "metadata": {},
   "source": [
    "### **What is Simple Linear Regression:**\n",
    "\n",
    "Simple linear regression is used to model the relationship between a dependent variable and one independent variables.\n",
    "\n",
    "### **Why use Linear Rgression:**\n",
    "\n",
    "Simple linear regression is a statistical method that models the relationship between a dependent variable (often called the target or outcome variable) and one or more independent variables (also called predictors or features).\n",
    "\n",
    "### **How to implement:**\n",
    "\n",
    "#### **Simple Linear Regression:**\n",
    "$$f_{w,b}(x^{(i)}) = wx^{(i)} + b \\tag{1}$$\n",
    "\n",
    "- $x$ is known as feature.\n",
    "- $y$ is known as taeget.\n",
    "- $i$ stands for the $i^{(th)}$ training sample.\n",
    "- $w$ is the inclination of the line.\n",
    "- $b$ is the bias.\n",
    "\n",
    "<br />\n",
    "<br />\n",
    "\n",
    "#### **How to implement Cost function:**\n",
    "\n",
    "$$J(w,b) = \\frac{1}{2m} \\sum_{i=0}^{m-1}(f_{w,b}(x^{(i)}) - y^{(i)})^2 \\tag{2}$$\n",
    "\n",
    "- $x^{(i)}$ is the $i^{(th)}$ feature sample of the trainning set.\n",
    "- $y^{(i)}$ is the $i^{(th)}$ taeget of the training set.\n",
    "- $i$ stands for the $i^{(th)}$ training sample.\n",
    "- $w$ is the inclination of the line.\n",
    "- $b$ is the bias.\n",
    "\n",
    "<br/>\n",
    "<br/>\n",
    "\n",
    "\n",
    "#### **How to implement the Gradient:**\n",
    "\n",
    "\\begin{align}\n",
    "\\frac{\\partial J(w,b)}{\\partial w}  &= \\frac{1}{m} \\sum\\limits_{i = 0}^{m-1} (f_{w,b}(x^{(i)}) - y^{(i)})x^{(i)} \\tag{4}\\\\\n",
    "  \\frac{\\partial J(w,b)}{\\partial b}  &= \\frac{1}{m} \\sum\\limits_{i = 0}^{m-1} (f_{w,b}(x^{(i)}) - y^{(i)}) \\tag{5}\\\\\n",
    "\\end{align}\n",
    "\n",
    "**Conventions:**\n",
    "- The naming of python variables containing partial derivatives follows this pattern,$\\frac{\\partial J(w,b)}{\\partial b}$  will be `dj_db`.\n",
    "- w.r.t is With Respect To, as in partial derivative of $J(wb)$ With Respect To $b$."
   ]
  },
  {
   "cell_type": "code",
   "execution_count": 2,
   "id": "99db63f6-a755-4223-b921-a94a1a4a97ab",
   "metadata": {},
   "outputs": [],
   "source": [
    "# import the necessary pkgs:\n",
    "\n",
    "import numpy as np\n",
    "import pandas as pd\n",
    "import seaborn as sns\n",
    "import matplotlib.pyplot as plt\n",
    "\n",
    "sns.set()"
   ]
  },
  {
   "cell_type": "code",
   "execution_count": 7,
   "id": "49c07c24-6334-44a8-9513-fa0d234a6e97",
   "metadata": {},
   "outputs": [
    {
     "name": "stdout",
     "output_type": "stream",
     "text": [
      "x_train = [1. 2.]\n",
      "y_train = [300. 500.]\n"
     ]
    }
   ],
   "source": [
    "x_train = np.array([1.0, 2.0])\n",
    "y_train = np.array([300.0, 500.0])\n",
    "print(f\"x_train = {x_train}\")\n",
    "print(f\"y_train = {y_train}\")"
   ]
  },
  {
   "cell_type": "markdown",
   "id": "ab0050ea-7a10-4fd9-a2fa-1afbf7e489ed",
   "metadata": {},
   "source": [
    "#### **Simple Linear Regression:**\n",
    "$$f_{w,b}(x^{(i)}) = wx^{(i)} + b \\tag{1}$$"
   ]
  },
  {
   "cell_type": "code",
   "execution_count": 6,
   "id": "6e205aa1-dd65-42cd-a70b-759e25c8fb56",
   "metadata": {},
   "outputs": [],
   "source": [
    "def compute_simple_linear_regression(x,w,b):\n",
    "    \"\"\"\n",
    "    Computes the prediction of a linear model\n",
    "    Args:\n",
    "      x (ndarray (m,)): Data, m examples \n",
    "      w,b (scalar)    : model parameters  \n",
    "    Returns:\n",
    "      f_wb (ndarray (m,)): model prediction\n",
    "    \"\"\"\n",
    "    m = x.shape[0]\n",
    "    f_wb = np.zeros(m)\n",
    "\n",
    "    for i in range(m):\n",
    "        f_wb[i] = w * x[i] + b\n",
    "    \n",
    "    return f_wb\n"
   ]
  },
  {
   "cell_type": "code",
   "execution_count": null,
   "id": "818c7122-c612-483c-b1b7-6f7609e67c60",
   "metadata": {},
   "outputs": [],
   "source": [
    "#  scatter and other plots"
   ]
  },
  {
   "cell_type": "markdown",
   "id": "8e70760a-62bd-4947-bc77-8efc0f5869b4",
   "metadata": {},
   "source": [
    "#### **How to implement Cost function:**\n",
    "\n",
    "$$J(w,b) = \\frac{1}{2m} \\sum_{i=0}^{m-1}(f_{w,b}(x^{(i)}) - y^{(i)})^2 \\tag{2}$$\n"
   ]
  },
  {
   "cell_type": "code",
   "execution_count": 12,
   "id": "28e23615-5415-4901-8151-4d5179b3e184",
   "metadata": {},
   "outputs": [],
   "source": [
    "# implementation"
   ]
  },
  {
   "cell_type": "markdown",
   "id": "965377af-6f1f-4b63-a82a-845e179847f1",
   "metadata": {},
   "source": [
    "#### **How to implement the Gradient:**\n",
    "\n",
    "\\begin{align}\n",
    "\\frac{\\partial J(w,b)}{\\partial w}  &= \\frac{1}{m} \\sum\\limits_{i = 0}^{m-1} (f_{w,b}(x^{(i)}) - y^{(i)})x^{(i)} \\tag{4}\\\\\n",
    "  \\frac{\\partial J(w,b)}{\\partial b}  &= \\frac{1}{m} \\sum\\limits_{i = 0}^{m-1} (f_{w,b}(x^{(i)}) - y^{(i)}) \\tag{5}\\\\\n",
    "\\end{align}"
   ]
  },
  {
   "cell_type": "code",
   "execution_count": 11,
   "id": "723f919f-436e-420d-a2f5-b1f0d0d8df51",
   "metadata": {},
   "outputs": [],
   "source": [
    "# implementation"
   ]
  },
  {
   "cell_type": "code",
   "execution_count": 3,
   "id": "a450cf35-89a3-4c93-91dc-352ef14dceed",
   "metadata": {
    "scrolled": true
   },
   "outputs": [
    {
     "data": {
      "text/html": [
       "<div>\n",
       "<style scoped>\n",
       "    .dataframe tbody tr th:only-of-type {\n",
       "        vertical-align: middle;\n",
       "    }\n",
       "\n",
       "    .dataframe tbody tr th {\n",
       "        vertical-align: top;\n",
       "    }\n",
       "\n",
       "    .dataframe thead th {\n",
       "        text-align: right;\n",
       "    }\n",
       "</style>\n",
       "<table border=\"1\" class=\"dataframe\">\n",
       "  <thead>\n",
       "    <tr style=\"text-align: right;\">\n",
       "      <th></th>\n",
       "      <th>x</th>\n",
       "      <th>y</th>\n",
       "    </tr>\n",
       "  </thead>\n",
       "  <tbody>\n",
       "    <tr>\n",
       "      <th>0</th>\n",
       "      <td>3.745401</td>\n",
       "      <td>4.059693</td>\n",
       "    </tr>\n",
       "    <tr>\n",
       "      <th>1</th>\n",
       "      <td>9.507143</td>\n",
       "      <td>15.871247</td>\n",
       "    </tr>\n",
       "    <tr>\n",
       "      <th>2</th>\n",
       "      <td>7.319939</td>\n",
       "      <td>10.463499</td>\n",
       "    </tr>\n",
       "    <tr>\n",
       "      <th>3</th>\n",
       "      <td>5.986585</td>\n",
       "      <td>11.072292</td>\n",
       "    </tr>\n",
       "    <tr>\n",
       "      <th>4</th>\n",
       "      <td>1.560186</td>\n",
       "      <td>10.635851</td>\n",
       "    </tr>\n",
       "  </tbody>\n",
       "</table>\n",
       "</div>"
      ],
      "text/plain": [
       "          x          y\n",
       "0  3.745401   4.059693\n",
       "1  9.507143  15.871247\n",
       "2  7.319939  10.463499\n",
       "3  5.986585  11.072292\n",
       "4  1.560186  10.635851"
      ]
     },
     "execution_count": 3,
     "metadata": {},
     "output_type": "execute_result"
    }
   ],
   "source": [
    "# set the seed for reproducibility\n",
    "np.random.seed(42)\n",
    "\n",
    "# feature\n",
    "x = np.random.rand(100, 1) * 10\n",
    "\n",
    "# target + noise\n",
    "y = x + np.random.rand(100, 1) * 10\n",
    "\n",
    "data = pd.DataFrame(data=np.hstack((x, y)), columns=['x', 'y'])\n",
    "data.head()"
   ]
  }
 ],
 "metadata": {
  "kernelspec": {
   "display_name": "Python 3 (ipykernel)",
   "language": "python",
   "name": "python3"
  },
  "language_info": {
   "codemirror_mode": {
    "name": "ipython",
    "version": 3
   },
   "file_extension": ".py",
   "mimetype": "text/x-python",
   "name": "python",
   "nbconvert_exporter": "python",
   "pygments_lexer": "ipython3",
   "version": "3.12.0"
  }
 },
 "nbformat": 4,
 "nbformat_minor": 5
}
