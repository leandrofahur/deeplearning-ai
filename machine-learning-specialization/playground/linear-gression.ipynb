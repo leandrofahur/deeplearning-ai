{
 "cells": [
  {
   "cell_type": "markdown",
   "id": "89d2d46b-b370-4c0f-be49-a923ae981a84",
   "metadata": {},
   "source": [
    "# **Linear Regression**"
   ]
  },
  {
   "cell_type": "markdown",
   "id": "2def5747-69fe-4be2-b860-4c6cff0268f9",
   "metadata": {},
   "source": [
    "#### **What is Linear Regression:**\n",
    "\n",
    "Linear regression is used to model the relationship between a dependent variable and one or more independent variables.\n",
    "\n",
    "#### **Why use Linear Rgression:**\n",
    "\n",
    "Linear regression is a statistical method that models the relationship between a dependent variable (often called the target or outcome variable) and one or more independent variables (also called predictors or features).\n",
    "\n",
    "There are two main types:\n",
    "\n",
    "- Simple Linear Regression: Involves one independent variable.\n",
    "- Multiple Linear Regression: Involves multiple independent variables.\n",
    "\n",
    "#### **How to implement Linear Regression:**\n",
    "\n",
    "- First section will go through how to implement a simple linear regression.\n",
    "- Second section will generalize for multiple linear regression.\n"
   ]
  },
  {
   "cell_type": "code",
   "execution_count": 68,
   "id": "99db63f6-a755-4223-b921-a94a1a4a97ab",
   "metadata": {},
   "outputs": [],
   "source": [
    "# import the necessary pkgs:\n",
    "\n",
    "import numpy as np\n",
    "import pandas as pd\n",
    "import seaborn as sns\n",
    "import matplotlib.pyplot as plt\n",
    "\n",
    "sns.set()"
   ]
  },
  {
   "cell_type": "markdown",
   "id": "f7f03d04-b944-4360-ae21-64c08a39aa91",
   "metadata": {},
   "source": [
    "## **Simple Linear Regression**\n",
    "\n",
    "$$f_{w,b}(x^{(i)}) = wx^{(i)} + b \\tag{1}$$\n",
    "\n",
    "- $x$ is known as feature.\n",
    "- $y$ is known as taeget.\n",
    "- $i$ stands for the $i^{(th)}$ training sample.\n",
    "- $w$ is the inclination of the line.\n",
    "- $b$ is the bias."
   ]
  },
  {
   "cell_type": "code",
   "execution_count": 69,
   "id": "a450cf35-89a3-4c93-91dc-352ef14dceed",
   "metadata": {
    "scrolled": true
   },
   "outputs": [
    {
     "data": {
      "text/html": [
       "<div>\n",
       "<style scoped>\n",
       "    .dataframe tbody tr th:only-of-type {\n",
       "        vertical-align: middle;\n",
       "    }\n",
       "\n",
       "    .dataframe tbody tr th {\n",
       "        vertical-align: top;\n",
       "    }\n",
       "\n",
       "    .dataframe thead th {\n",
       "        text-align: right;\n",
       "    }\n",
       "</style>\n",
       "<table border=\"1\" class=\"dataframe\">\n",
       "  <thead>\n",
       "    <tr style=\"text-align: right;\">\n",
       "      <th></th>\n",
       "      <th>x</th>\n",
       "      <th>y</th>\n",
       "    </tr>\n",
       "  </thead>\n",
       "  <tbody>\n",
       "    <tr>\n",
       "      <th>0</th>\n",
       "      <td>3.745401</td>\n",
       "      <td>4.059693</td>\n",
       "    </tr>\n",
       "    <tr>\n",
       "      <th>1</th>\n",
       "      <td>9.507143</td>\n",
       "      <td>15.871247</td>\n",
       "    </tr>\n",
       "    <tr>\n",
       "      <th>2</th>\n",
       "      <td>7.319939</td>\n",
       "      <td>10.463499</td>\n",
       "    </tr>\n",
       "    <tr>\n",
       "      <th>3</th>\n",
       "      <td>5.986585</td>\n",
       "      <td>11.072292</td>\n",
       "    </tr>\n",
       "    <tr>\n",
       "      <th>4</th>\n",
       "      <td>1.560186</td>\n",
       "      <td>10.635851</td>\n",
       "    </tr>\n",
       "  </tbody>\n",
       "</table>\n",
       "</div>"
      ],
      "text/plain": [
       "          x          y\n",
       "0  3.745401   4.059693\n",
       "1  9.507143  15.871247\n",
       "2  7.319939  10.463499\n",
       "3  5.986585  11.072292\n",
       "4  1.560186  10.635851"
      ]
     },
     "execution_count": 69,
     "metadata": {},
     "output_type": "execute_result"
    }
   ],
   "source": [
    "# step 1: load the data set\n",
    "\n",
    "# set the seed for reproducibility\n",
    "np.random.seed(42)\n",
    "\n",
    "# feature\n",
    "x = np.random.rand(100, 1) * 10\n",
    "\n",
    "# target + noise\n",
    "y = x + np.random.rand(100, 1) * 10\n",
    "\n",
    "data = pd.DataFrame(data=np.hstack((x, y)), columns=['x', 'y'])\n",
    "data.head()"
   ]
  },
  {
   "cell_type": "code",
   "execution_count": 65,
   "id": "bc1c3932-732d-4848-b055-210b2f957b97",
   "metadata": {},
   "outputs": [],
   "source": [
    "def compute_model_output(x, w, b):\n",
    "    \"\"\"\n",
    "    Computes the prediction of a linear model\n",
    "    Args:\n",
    "      x (ndarray (m,)): Data, m examples \n",
    "      w,b (scalar)    : model parameters  \n",
    "    Returns\n",
    "      f_wb (ndarray (m,)): model prediction\n",
    "    \"\"\"\n",
    "    m = x.shape[0]\n",
    "    f_wb = np.zeros(m)\n",
    "    for i in range(m):\n",
    "        f_wb[i] = w * x[i] + b\n",
    "        \n",
    "    return f_wb"
   ]
  },
  {
   "cell_type": "code",
   "execution_count": 79,
   "id": "c3f5fc9a-0b9f-4a41-b81c-0c8e31ba1673",
   "metadata": {},
   "outputs": [
    {
     "name": "stderr",
     "output_type": "stream",
     "text": [
      "/var/folders/tx/46dc5xbj76dgdg729dqvc4dr0000gn/T/ipykernel_45626/900437179.py:13: DeprecationWarning: Conversion of an array with ndim > 0 to a scalar is deprecated, and will error in future. Ensure you extract a single element from your array before performing this operation. (Deprecated NumPy 1.25.)\n",
      "  f_wb[i] = w * x[i] + b\n"
     ]
    },
    {
     "data": {
      "image/png": "[encoded data removed]",
      "text/plain": [
       "<Figure size 640x480 with 1 Axes>"
      ]
     },
     "metadata": {},
     "output_type": "display_data"
    }
   ],
   "source": [
    "w = 1.8\n",
    "b = 2\n",
    "\n",
    "tmp_f_wb = compute_model_output(x, w, b,)\n",
    "\n",
    "# Plot our model prediction\n",
    "plt.plot(x, tmp_f_wb, c='b',label='Prediction')\n",
    "\n",
    "# Plot the data points\n",
    "plt.scatter(x, y, marker='x', c='r',label='Actual Values')\n",
    "\n",
    "plt.legend()\n",
    "plt.show()"
   ]
  },
  {
   "cell_type": "markdown",
   "id": "becfd0ab-6067-4feb-86bc-fe412ef4fca0",
   "metadata": {},
   "source": [
    "### **Cost Function:**\n",
    "\n",
    "$$J(w,b) = \\frac{1}{2m} \\sum_{i=0}^{m-1}(f_{w,b}(x^{(i)}) - y^{(i)})^2 \\tag{2}$$\n",
    "\n",
    "#### **Algorithm**\n",
    "1. initialize the number of samples and the cost.\n",
    "2. loop through the number of samples updating:\n",
    "    - simple linear regression function.\n",
    "    - cost function.\n",
    "3. return the total cost."
   ]
  },
  {
   "cell_type": "code",
   "execution_count": 80,
   "id": "7abd36fc-f063-41cc-90cc-e4445886f42d",
   "metadata": {},
   "outputs": [],
   "source": [
    "def compute_cost(x,y,w,b):\n",
    "    \"\"\"\n",
    "    This function implement the cost function for gradient descent.\n",
    "    Args:\n",
    "        x (ndarray (m,)): m data examples\n",
    "        y (ndarray (m,)): m target values\n",
    "        w,b (scalar)    : model parameters               \n",
    "    Returns:\n",
    "        total_cost: the total cost\n",
    "    \"\"\"\n",
    "    m = x.shape[0]\n",
    "    cost = 0\n",
    "\n",
    "    for i in range(m):\n",
    "        f_wb = w * x[i] + b\n",
    "        cost = cost + (f_wb - y[i])**2\n",
    "    total_cost = 1 / (2 * m) * cost\n",
    "    \n",
    "    return total_cost    "
   ]
  },
  {
   "cell_type": "markdown",
   "id": "a73e5f63-593b-487b-a1fa-faa4ac4c045a",
   "metadata": {},
   "source": [
    "### **Gradient Function:**\n",
    "\n",
    "\\begin{align}\n",
    "\\frac{\\partial J(w,b)}{\\partial w}  &= \\frac{1}{m} \\sum\\limits_{i = 0}^{m-1} (f_{w,b}(x^{(i)}) - y^{(i)})x^{(i)} \\tag{4}\\\\\n",
    "  \\frac{\\partial J(w,b)}{\\partial b}  &= \\frac{1}{m} \\sum\\limits_{i = 0}^{m-1} (f_{w,b}(x^{(i)}) - y^{(i)}) \\tag{5}\\\\\n",
    "\\end{align}\n",
    "\n",
    "Conventions:\n",
    "- The naming of python variables containing partial derivatives follows this pattern,$\\frac{\\partial J(w,b)}{\\partial b}$  will be `dj_db`.\n",
    "- w.r.t is With Respect To, as in partial derivative of $J(wb)$ With Respect To $b$.\n",
    "\n",
    "#### **Algorithm**\n",
    "1. initialize the number of samples and the $\\frac{\\partial J(w,b)}{\\partial w}$,$\\frac{\\partial J(w,b)}{\\partial b}$.\n",
    "2. loop through the number of samples updating:\n",
    "    - simple linear regression function.\n",
    "    - oartial derivatives in respect to w and b.\n",
    "3. return the two gradient relative to w and b."
   ]
  },
  {
   "cell_type": "code",
   "execution_count": 81,
   "id": "5fb083a5-e9ee-4afc-994c-3dbdfaeddcdb",
   "metadata": {},
   "outputs": [],
   "source": [
    "def compute_gradient(x,y,w,b):\n",
    "    \"\"\"\n",
    "    Computes the gradient for linear regression \n",
    "    Args:\n",
    "      x (ndarray (m,)): Data, m examples \n",
    "      y (ndarray (m,)): target values\n",
    "      w,b (scalar)    : model parameters\n",
    "    Returns\n",
    "      dj_dw (scalar): The gradient of the cost w.r.t. the parameters w\n",
    "      dj_db (scalar): The gradient of the cost w.r.t. the parameter b\n",
    "    \"\"\"\n",
    "    m = x.shape[0]\n",
    "    dj_dw = 0\n",
    "    dj_db = 0\n",
    "\n",
    "    for i in range(m):\n",
    "        f_wb = w * x[i] + b\n",
    "        dj_dw_i = (f_wb - y[i]) * x[i]\n",
    "        dj_db_i = (f_wb - y[i])\n",
    "        dj_dw += dj_dw_i\n",
    "        dj_db += dj_db_i\n",
    "    dj_dw = (1 / m) * dj_dw\n",
    "    dj_db = (1 / m) * dj_db\n",
    "        \n",
    "    return dj_dw, dj_db"
   ]
  },
  {
   "cell_type": "code",
   "execution_count": null,
   "id": "6c8feee4-acac-46c2-ac19-5c9ce95e57ae",
   "metadata": {},
   "outputs": [],
   "source": []
  },
  {
   "cell_type": "code",
   "execution_count": null,
   "id": "6e205aa1-dd65-42cd-a70b-759e25c8fb56",
   "metadata": {},
   "outputs": [],
   "source": []
  }
 ],
 "metadata": {
  "kernelspec": {
   "display_name": "Python 3 (ipykernel)",
   "language": "python",
   "name": "python3"
  },
  "language_info": {
   "codemirror_mode": {
    "name": "ipython",
    "version": 3
   },
   "file_extension": ".py",
   "mimetype": "text/x-python",
   "name": "python",
   "nbconvert_exporter": "python",
   "pygments_lexer": "ipython3",
   "version": "3.12.0"
  }
 },
 "nbformat": 4,
 "nbformat_minor": 5
}
